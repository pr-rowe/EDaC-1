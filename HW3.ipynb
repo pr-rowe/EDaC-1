{
 "cells": [
  {
   "cell_type": "code",
   "execution_count": 6,
   "id": "c334d006",
   "metadata": {},
   "outputs": [],
   "source": [
    "import pandas as pd\n",
    "import numpy as np\n",
    "import matplotlib as plt\n",
    "from sklearn.linear_model import LinearRegression"
   ]
  },
  {
   "cell_type": "code",
   "execution_count": 17,
   "id": "5350691c",
   "metadata": {},
   "outputs": [],
   "source": [
    "df1 = pd.read_csv('/workspaces/EDaC-1/homework_3.1.csv')\n",
    "df_a = pd.read_csv('/workspaces/EDaC-1/homework_3.2.a.csv')\n",
    "df_b = pd.read_csv('/workspaces/EDaC-1/homework_3.2.b.csv')"
   ]
  },
  {
   "cell_type": "code",
   "execution_count": null,
   "id": "00dc0d7c",
   "metadata": {},
   "outputs": [
    {
     "name": "stdout",
     "output_type": "stream",
     "text": [
      "value1: estimated jump at t=50 = 0.903\n",
      "value2: estimated jump at t=50 = 0.701\n",
      "value3: estimated jump at t=50 = 1.793\n"
     ]
    }
   ],
   "source": [
    "def estimate_level_jump(df, time_col, outcome_col, cutoff=50):\n",
    "    # Build RDD design: running, level jump D, slope change running_D\n",
    "    df = df.copy()\n",
    "    df['running']   = df[time_col] - cutoff\n",
    "    df['D']         = (df[time_col] >= cutoff).astype(int)\n",
    "    df['running_D'] = df['running'] * df['D']\n",
    "    \n",
    "    X = df[['running', 'D', 'running_D']]\n",
    "    y = df[outcome_col]\n",
    "    \n",
    "    model = LinearRegression().fit(X, y)\n",
    "    # coef_[1] corresponds to the jump at the cutoff (the D indicator)\n",
    "    return model.coef_[1]\n",
    "\n",
    "\n",
    "# estimate level‐discontinuity for each series\n",
    "for col in ['value1', 'value2', 'value3']:\n",
    "    jump = estimate_level_jump(df1, 'time', col, cutoff=50)\n",
    "    print(f\"{col}: estimated jump at t=50 = {jump:.3f}\")"
   ]
  },
  {
   "cell_type": "code",
   "execution_count": 16,
   "id": "98e05310",
   "metadata": {},
   "outputs": [
    {
     "name": "stdout",
     "output_type": "stream",
     "text": [
      "value1  | slope_before = -0.009  slope_after =  0.097  slope_jump =  0.105\n",
      "value2  | slope_before =  0.010  slope_after =  0.047  slope_jump =  0.037\n",
      "value3  | slope_before =  0.011  slope_after =  0.062  slope_jump =  0.051\n"
     ]
    }
   ],
   "source": [
    "import pandas as pd\n",
    "from sklearn.linear_model import LinearRegression\n",
    "\n",
    "def estimate_slope_jump(df, time_col, outcome_col, cutoff=50):\n",
    "    df = df.copy()\n",
    "    # 1) Centered running variable\n",
    "    df['running']   = df[time_col] - cutoff\n",
    "    # 2) Post‐cut indicator\n",
    "    df['D']         = (df[time_col] >= cutoff).astype(int)\n",
    "    # 3) Interaction term for slope change\n",
    "    df['running_D'] = df['running'] * df['D']\n",
    "    \n",
    "    X = df[['running', 'D', 'running_D']]\n",
    "    y = df[outcome_col]\n",
    "    \n",
    "    model = LinearRegression().fit(X, y)\n",
    "    slope_before = model.coef_[0]\n",
    "    slope_jump   = model.coef_[2]\n",
    "    slope_after  = slope_before + slope_jump\n",
    "    \n",
    "    return slope_before, slope_after, slope_jump\n",
    "\n",
    "# load the dataset\n",
    "\n",
    "\n",
    "# loop through each value*\n",
    "for ycol in ['value1','value2','value3']:\n",
    "    sl, sr, jump = estimate_slope_jump(df1, 'time', ycol, cutoff=50)\n",
    "    print(f\"{ycol:7s} | slope_before = {sl: .3f}  \"\n",
    "          f\"slope_after = {sr: .3f}  \"\n",
    "          f\"slope_jump = {jump: .3f}\")"
   ]
  },
  {
   "cell_type": "code",
   "execution_count": 18,
   "id": "12dd0c85",
   "metadata": {},
   "outputs": [
    {
     "name": "stdout",
     "output_type": "stream",
     "text": [
      "Group 1 DiD: 0.6858469689928857\n",
      "Group 2 DiD: 1.349858924693997\n"
     ]
    }
   ],
   "source": [
    "def compute_did(df, group_col, time_col, outcome_col):\n",
    "    # Average outcomes by group and period\n",
    "    pre_treated   = df[(df[group_col] == 1) & (df[time_col] == 0)][outcome_col].mean()\n",
    "    pre_control   = df[(df[group_col] == 0) & (df[time_col] == 0)][outcome_col].mean()\n",
    "    post_treated  = df[(df[group_col] == 1) & (df[time_col] == 1)][outcome_col].mean()\n",
    "    post_control  = df[(df[group_col] == 0) & (df[time_col] == 1)][outcome_col].mean()\n",
    "    \n",
    "    # Differences\n",
    "    diff_pre  = pre_treated  - pre_control\n",
    "    diff_post = post_treated - post_control\n",
    "    \n",
    "    # DiD estimate\n",
    "    did = diff_post - diff_pre\n",
    "    \n",
    "    return {\n",
    "        'pre_treated':   pre_treated,\n",
    "        'pre_control':   pre_control,\n",
    "        'post_treated':  post_treated,\n",
    "        'post_control':  post_control,\n",
    "        'diff_pre':      diff_pre,\n",
    "        'diff_post':     diff_post,\n",
    "        'did':           did\n",
    "    }\n",
    "\n",
    "\n",
    "# Compute DiD for each\n",
    "res_a = compute_did(df_a, 'group1', 'time1', 'outcome1')\n",
    "res_b = compute_did(df_b, 'group2', 'time2', 'outcome2')\n",
    "\n",
    "print(\"Group 1 DiD:\", res_a['did'])\n",
    "print(\"Group 2 DiD:\", res_b['did'])"
   ]
  },
  {
   "cell_type": "code",
   "execution_count": 20,
   "id": "5aba2216",
   "metadata": {},
   "outputs": [
    {
     "name": "stdout",
     "output_type": "stream",
     "text": [
      "Group 1: DiD = 0.686, SE = 0.063, t = 10.97\n",
      "Group 2: DiD = 1.350, SE = 0.147, t = 9.18\n"
     ]
    }
   ],
   "source": [
    "def did_with_se(df, group_col, time_col, outcome_col):\n",
    "    # Prepare interaction term\n",
    "    df = df.copy()\n",
    "    df['interaction'] = df[group_col] * df[time_col]\n",
    "    \n",
    "    # Build design matrix [Intercept, Group, Time, Interaction]\n",
    "    X = df[[group_col, time_col, 'interaction']].to_numpy()\n",
    "    X = np.column_stack([np.ones(len(df)), X])\n",
    "    y = df[outcome_col].to_numpy()\n",
    "    \n",
    "    # OLS estimates: beta = (X'X)^{-1} X'y\n",
    "    XtX = X.T @ X\n",
    "    XtX_inv = np.linalg.inv(XtX)\n",
    "    beta = XtX_inv @ X.T @ y\n",
    "    \n",
    "    # Residual variance σ² = (e'e) / (n−k)\n",
    "    resid = y - X @ beta\n",
    "    n, k = X.shape\n",
    "    sigma2 = resid.dot(resid) / (n - k)\n",
    "    \n",
    "    # Var–Cov matrix of β: σ² (X'X)^{-1}\n",
    "    cov_beta = sigma2 * XtX_inv\n",
    "    se_beta = np.sqrt(np.diag(cov_beta))\n",
    "    \n",
    "    # DiD estimate is β₃ (interaction term)\n",
    "    did  = beta[3]\n",
    "    se   = se_beta[3]\n",
    "    tstat = did / se\n",
    "    return did, se, tstat\n",
    "\n",
    "\n",
    "# Compute DiD estimate, its SE, and t‐statistic for each\n",
    "for name, df, gcol, tcol, ycol in [\n",
    "    ('Group 1', df_a, 'group1', 'time1', 'outcome1'),\n",
    "    ('Group 2', df_b, 'group2', 'time2', 'outcome2'),\n",
    "]:\n",
    "    did, se, tstat = did_with_se(df, gcol, tcol, ycol)\n",
    "    print(f\"{name}: DiD = {did:.3f}, SE = {se:.3f}, t = {tstat:.2f}\")"
   ]
  }
 ],
 "metadata": {
  "kernelspec": {
   "display_name": "Python 3",
   "language": "python",
   "name": "python3"
  },
  "language_info": {
   "codemirror_mode": {
    "name": "ipython",
    "version": 3
   },
   "file_extension": ".py",
   "mimetype": "text/x-python",
   "name": "python",
   "nbconvert_exporter": "python",
   "pygments_lexer": "ipython3",
   "version": "3.12.1"
  }
 },
 "nbformat": 4,
 "nbformat_minor": 5
}
