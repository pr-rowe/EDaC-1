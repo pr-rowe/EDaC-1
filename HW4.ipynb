{
 "cells": [
  {
   "cell_type": "code",
   "execution_count": 3,
   "id": "c334d006",
   "metadata": {},
   "outputs": [],
   "source": [
    "import pandas as pd\n",
    "import numpy as np\n",
    "import matplotlib as plt\n",
    "import pandas as pd\n",
    "from sklearn.linear_model import LinearRegression\n",
    "import matplotlib as plt"
   ]
  },
  {
   "cell_type": "code",
   "execution_count": 2,
   "id": "5a5af118",
   "metadata": {},
   "outputs": [
    {
     "data": {
      "text/plain": [
       "<bound method NDFrame.describe of        Unnamed: 0         X2  Y2\n",
       "0               0  76.643034   1\n",
       "1               1  87.743397   1\n",
       "2               2  81.639469   1\n",
       "3               3  73.740485   0\n",
       "4               4  90.480268   1\n",
       "...           ...        ...  ..\n",
       "99995       99995  75.857481   0\n",
       "99996       99996  87.572107   1\n",
       "99997       99997  81.230748   1\n",
       "99998       99998  86.646018   1\n",
       "99999       99999  85.568121   1\n",
       "\n",
       "[100000 rows x 3 columns]>"
      ]
     },
     "execution_count": 2,
     "metadata": {},
     "output_type": "execute_result"
    }
   ],
   "source": [
    "df1 = pd.read_csv('/workspaces/EDaC-1/homework_4.1.csv')\n",
    "df_a = pd.read_csv('/workspaces/EDaC-1/homework_4.2.a.csv')\n",
    "df_b = pd.read_csv('/workspaces/EDaC-1/homework_4.2.b.csv')\n",
    "\n",
    "df1.describe\n",
    "df_a.describe\n",
    "df_b.describe"
   ]
  }
 ],
 "metadata": {
  "kernelspec": {
   "display_name": "Python 3",
   "language": "python",
   "name": "python3"
  },
  "language_info": {
   "codemirror_mode": {
    "name": "ipython",
    "version": 3
   },
   "file_extension": ".py",
   "mimetype": "text/x-python",
   "name": "python",
   "nbconvert_exporter": "python",
   "pygments_lexer": "ipython3",
   "version": "3.12.1"
  }
 },
 "nbformat": 4,
 "nbformat_minor": 5
}
