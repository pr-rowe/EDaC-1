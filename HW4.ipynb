{
 "cells": [
  {
   "cell_type": "code",
   "execution_count": 7,
   "id": "c334d006",
   "metadata": {},
   "outputs": [],
   "source": [
    "import pandas as pd\n",
    "import numpy as np\n",
    "import matplotlib as plt\n",
    "import pandas as pd\n",
    "from sklearn.linear_model import LinearRegression\n",
    "import matplotlib as plt\n",
    "import statsmodels.formula.api as smf"
   ]
  },
  {
   "cell_type": "code",
   "execution_count": 5,
   "id": "5a5af118",
   "metadata": {},
   "outputs": [
    {
     "name": "stdout",
     "output_type": "stream",
     "text": [
      "      Unnamed: 0  Z         W         X         Y\n",
      "0              0  0 -0.155644 -0.496971  0.282484\n",
      "1              1  1  0.529539  2.284240  4.740596\n",
      "2              2  1  0.910514  0.872232  3.449569\n",
      "3              3  1 -0.705476  2.157260  3.002531\n",
      "4              4  0 -0.590874 -0.386730 -1.848796\n",
      "...          ... ..       ...       ...       ...\n",
      "4995        4995  0 -0.976289  0.482060 -0.830112\n",
      "4996        4996  0  0.677586 -0.580264  1.106948\n",
      "4997        4997  0 -0.829560  0.895967 -0.612659\n",
      "4998        4998  0 -1.126846 -0.178558 -2.882220\n",
      "4999        4999  0  0.578862  0.670354  2.308631\n",
      "\n",
      "[5000 rows x 5 columns]\n",
      "       Unnamed: 0          X  Y\n",
      "0               0  81.822339  1\n",
      "1               1  92.487870  0\n",
      "2               2  85.372460  0\n",
      "3               3  78.828025  0\n",
      "4               4  75.807080  1\n",
      "...           ...        ... ..\n",
      "99995       99995  92.542635  1\n",
      "99996       99996  81.713212  0\n",
      "99997       99997  76.949186  0\n",
      "99998       99998  71.790575  0\n",
      "99999       99999  80.698671  0\n",
      "\n",
      "[100000 rows x 3 columns]\n",
      "       Unnamed: 0         X2  Y2\n",
      "0               0  76.643034   1\n",
      "1               1  87.743397   1\n",
      "2               2  81.639469   1\n",
      "3               3  73.740485   0\n",
      "4               4  90.480268   1\n",
      "...           ...        ...  ..\n",
      "99995       99995  75.857481   0\n",
      "99996       99996  87.572107   1\n",
      "99997       99997  81.230748   1\n",
      "99998       99998  86.646018   1\n",
      "99999       99999  85.568121   1\n",
      "\n",
      "[100000 rows x 3 columns]\n"
     ]
    }
   ],
   "source": [
    "df1 = pd.read_csv('/workspaces/EDaC-1/homework_4.1.csv')\n",
    "df_a = pd.read_csv('/workspaces/EDaC-1/homework_4.2.a.csv')\n",
    "df_b = pd.read_csv('/workspaces/EDaC-1/homework_4.2.b.csv')\n",
    "\n",
    "print(df1)\n",
    "print(df_a)\n",
    "print(df_b)"
   ]
  },
  {
   "cell_type": "code",
   "execution_count": null,
   "id": "d69399b7",
   "metadata": {},
   "outputs": [],
   "source": []
  }
 ],
 "metadata": {
  "kernelspec": {
   "display_name": "Python 3",
   "language": "python",
   "name": "python3"
  },
  "language_info": {
   "codemirror_mode": {
    "name": "ipython",
    "version": 3
   },
   "file_extension": ".py",
   "mimetype": "text/x-python",
   "name": "python",
   "nbconvert_exporter": "python",
   "pygments_lexer": "ipython3",
   "version": "3.12.1"
  }
 },
 "nbformat": 4,
 "nbformat_minor": 5
}
